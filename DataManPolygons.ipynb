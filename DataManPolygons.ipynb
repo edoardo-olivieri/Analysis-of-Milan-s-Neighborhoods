{
 "cells": [
  {
   "cell_type": "code",
   "execution_count": 5,
   "id": "59d6f59b-2079-4e61-bc52-261c96b1672a",
   "metadata": {},
   "outputs": [],
   "source": [
    "import pandas as pd\n",
    "import geopandas as gpd\n",
    "import requests\n",
    "import time\n",
    "from shapely.geometry import Point\n",
    "from geopandas.tools import sjoin"
   ]
  },
  {
   "cell_type": "markdown",
   "id": "1efb8ed2-81c8-42d0-86e6-30253fa00a7d",
   "metadata": {},
   "source": [
    "## Codice 1 OverpassTurbo (serve per tutti i quartieri tranne Forze Armate)"
   ]
  },
  {
   "cell_type": "raw",
   "id": "b3eccad2-e911-483a-914b-be0177237800",
   "metadata": {},
   "source": [
    "[out:json][timeout:25];\n",
    "area[\"name\"=\"Milano\"][\"boundary\"=\"administrative\"][\"admin_level\"=\"8\"]->.searchArea;\n",
    "way[\"place\"=\"quarter\"](area.searchArea);\n",
    "out body;\n",
    ">;\n",
    "out skel qt;"
   ]
  },
  {
   "cell_type": "markdown",
   "id": "42b8d7fa-62d0-4e95-a352-9832bf845c26",
   "metadata": {},
   "source": [
    "## Codice 2 Overpass Turbo (serve per il quartiere Forze Armate)"
   ]
  },
  {
   "cell_type": "raw",
   "id": "c7576c3b-7062-41ad-b101-0c08cb09afe2",
   "metadata": {},
   "source": [
    "[out:json][timeout:25];\n",
    "// Define the search area for Milan (ensure accurate name matching)\n",
    "area[\"name\"=\"Milano\"][\"boundary\"=\"administrative\"]->.searchArea;\n",
    "\n",
    "// Retrieve all \"quarters\" (suburbs or neighborhoods) within Milan\n",
    "way[\"place\"=\"quarter\"](area.searchArea);\n",
    "relation[\"place\"=\"quarter\"](area.searchArea);\n",
    "\n",
    "// Output the results\n",
    "out body;\n",
    ">;\n",
    "out skel qt;"
   ]
  },
  {
   "cell_type": "markdown",
   "id": "8c117213-c25c-4d50-b486-adb55f2e442e",
   "metadata": {},
   "source": [
    "# Import del file .geojson scaricato da overpass"
   ]
  },
  {
   "cell_type": "code",
   "execution_count": 7,
   "id": "9844f2c1-5fdc-4541-b875-baef490410ee",
   "metadata": {
    "scrolled": true
   },
   "outputs": [
    {
     "name": "stdout",
     "output_type": "stream",
     "text": [
      "EPSG:4326\n",
      "EPSG:4326\n",
      "              id            @id boundary               description  \\\n",
      "0  way/404140123  way/404140123   census  Nuclei d'Identità Locale   \n",
      "1  way/404140124  way/404140124   census  Nuclei d'Identità Locale   \n",
      "2  way/404140125  way/404140125   census  Nuclei d'Identità Locale   \n",
      "3  way/404140126  way/404140126   census  Nuclei d'Identità Locale   \n",
      "4  way/404140127  way/404140127   census  Nuclei d'Identità Locale   \n",
      "\n",
      "                  name    place ref            source tourism wikidata  \\\n",
      "0  Parco delle Abbazie  quarter  85  Comune di Milano    None     None   \n",
      "1              Adriano  quarter  17  Comune di Milano    None     None   \n",
      "2               Affori  quarter  80  Comune di Milano    None     None   \n",
      "3               Baggio  quarter  55              None    None     None   \n",
      "4           Bande Nere  quarter  52  Comune di Milano    None     None   \n",
      "\n",
      "  wikimedia_commons wikipedia  \\\n",
      "0              None      None   \n",
      "1              None      None   \n",
      "2              None      None   \n",
      "3              None      None   \n",
      "4              None      None   \n",
      "\n",
      "                                            geometry  \n",
      "0  POLYGON ((9.21711 45.43187, 9.21531 45.43232, ...  \n",
      "1  POLYGON ((9.25524 45.51983, 9.2553 45.52041, 9...  \n",
      "2  POLYGON ((9.18204 45.50732, 9.18161 45.50773, ...  \n",
      "3  POLYGON ((9.08347 45.45145, 9.0836 45.45152, 9...  \n",
      "4  POLYGON ((9.12906 45.46064, 9.12965 45.45953, ...  \n",
      "                  id                @id @relations   boundary  \\\n",
      "0   relation/6699672   relation/6699672       None      civil   \n",
      "1   relation/7673327   relation/7673327       None    quarter   \n",
      "2   relation/9176248   relation/9176248       None  political   \n",
      "3  relation/11621695  relation/11621695       None       None   \n",
      "4  relation/16815563  relation/16815563       None     census   \n",
      "\n",
      "                description loc_name                   name     name:lmo  \\\n",
      "0                      None     None         Gudo Gambaredo  Gà Gambaree   \n",
      "1                      None     None    Quartiere Satellite         None   \n",
      "2                      None     None              Tre Torri         None   \n",
      "3                      None      GTE  Area ex Nokia Siemens         None   \n",
      "4  Nuclei d'Identità Locale     None           Forze Armate         None   \n",
      "\n",
      "                                       official_name       old_name    place  \\\n",
      "0                                               None           None  quarter   \n",
      "1                                    Pioltello Nuova           None  quarter   \n",
      "2                                Quartiere Tre Torri           None  quarter   \n",
      "3  Polo delle telecomunicazioni di Cassina de' Pe...  Nokia Siemens  quarter   \n",
      "4                                               None           None  quarter   \n",
      "\n",
      "  population   ref            source start_date          type   wikidata  \\\n",
      "0       None  None              None       None      boundary   Q3778488   \n",
      "1       7335  None              None       1970      boundary       None   \n",
      "2       None  None              None       None      boundary       None   \n",
      "3       None  None              None       None  multipolygon  Q18420290   \n",
      "4       None    56  Comune di Milano       None  multipolygon       None   \n",
      "\n",
      "                                           wikipedia  \\\n",
      "0                                  it:Gudo Gambaredo   \n",
      "1                                               None   \n",
      "2                                               None   \n",
      "3  it:Polo delle telecomunicazioni di Cassina de'...   \n",
      "4                                               None   \n",
      "\n",
      "                                            geometry  \n",
      "0  POLYGON ((9.12337 45.38491, 9.12306 45.38523, ...  \n",
      "1  POLYGON ((9.33191 45.50789, 9.33189 45.50505, ...  \n",
      "2  POLYGON ((9.32508 45.51791, 9.32497 45.5168, 9...  \n",
      "3  POLYGON ((9.35257 45.5179, 9.35267 45.51757, 9...  \n",
      "4  POLYGON ((9.09753 45.46286, 9.09607 45.4625, 9...  \n"
     ]
    }
   ],
   "source": [
    "# Load the two GeoJSON files\n",
    "gdf1 = gpd.read_file(\"C:/Users/edoar/Downloads/export1.geojson\")\n",
    "gdf2 = gpd.read_file(\"C:/Users/edoar/Downloads/export2.geojson\")\n",
    "\n",
    "# Inspect the data\n",
    "print(gdf1.crs) # Check CRS\n",
    "print(gdf2.crs) # Check CRS\n",
    "print(gdf1.head())\n",
    "print(gdf2.head())"
   ]
  },
  {
   "cell_type": "code",
   "execution_count": 11,
   "id": "9e2bbb30-5cb8-4371-bc65-20e957402468",
   "metadata": {},
   "outputs": [
    {
     "name": "stdout",
     "output_type": "stream",
     "text": [
      "Total Quartieri: 85\n",
      "           Neighborhood                                           geometry\n",
      "0   Parco delle Abbazie  POLYGON ((9.21711 45.43187, 9.21531 45.43232, ...\n",
      "1               Adriano  POLYGON ((9.25524 45.51983, 9.2553 45.52041, 9...\n",
      "2                Affori  POLYGON ((9.18204 45.50732, 9.18161 45.50773, ...\n",
      "3                Baggio  POLYGON ((9.08347 45.45145, 9.0836 45.45152, 9...\n",
      "4            Bande Nere  POLYGON ((9.12906 45.46064, 9.12965 45.45953, ...\n",
      "..                  ...                                                ...\n",
      "80            Vigentina  POLYGON ((9.19652 45.45204, 9.19803 45.45204, ...\n",
      "81         Villapizzone  POLYGON ((9.14737 45.50568, 9.14746 45.5065, 9...\n",
      "82           Washington  POLYGON ((9.15716 45.45665, 9.15801 45.45691, ...\n",
      "83           XXII Marzo  POLYGON ((9.2238 45.46805, 9.22254 45.46801, 9...\n",
      "84         Forze Armate  POLYGON ((9.09753 45.46286, 9.09607 45.4625, 9...\n",
      "\n",
      "[85 rows x 2 columns]\n"
     ]
    }
   ],
   "source": [
    "# Filter gdf2 to keep only the Quartiere \"Forze Armate\"\n",
    "gdf2_filtered = gdf2[gdf2[\"name\"] == \"Forze Armate\"]\n",
    "\n",
    "# Ensure both GeoDataFrames use the same CRS\n",
    "if gdf1.crs != gdf2_filtered.crs:\n",
    "    gdf2_filtered = gdf2_filtered.to_crs(gdf1.crs)\n",
    "\n",
    "# Append the filtered \"Forze Armate\" Quartiere to gdf1\n",
    "gdf_combined = gpd.GeoDataFrame(pd.concat([gdf1, gdf2_filtered], ignore_index=True))\n",
    "gdf_combined = gdf_combined.rename(columns={\"name\": \"Neighborhood\"})\n",
    "\n",
    "# Keep only 'geometry' and 'name' columns in gdf_combined\n",
    "gdf_combined = gdf_combined[[\"Neighborhood\", \"geometry\"]]\n",
    "\n",
    "# Save the combined GeoDataFrame to a new GeoJSON file\n",
    "gdf_combined.to_file(\"combined_quartieri.geojson\", driver=\"GeoJSON\")\n",
    "\n",
    "# Inspect the result\n",
    "print(f\"Total Quartieri: {len(gdf_combined)}\")\n",
    "print(gdf_combined)"
   ]
  }
 ],
 "metadata": {
  "kernelspec": {
   "display_name": "Python 3 (ipykernel)",
   "language": "python",
   "name": "python3"
  },
  "language_info": {
   "codemirror_mode": {
    "name": "ipython",
    "version": 3
   },
   "file_extension": ".py",
   "mimetype": "text/x-python",
   "name": "python",
   "nbconvert_exporter": "python",
   "pygments_lexer": "ipython3",
   "version": "3.12.7"
  }
 },
 "nbformat": 4,
 "nbformat_minor": 5
}
